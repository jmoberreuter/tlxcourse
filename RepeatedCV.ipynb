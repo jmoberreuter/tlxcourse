{
 "cells": [
  {
   "cell_type": "markdown",
   "metadata": {},
   "source": [
    "# Repeated Cross Validation"
   ]
  },
  {
   "cell_type": "code",
   "execution_count": 169,
   "metadata": {},
   "outputs": [],
   "source": [
    "import numpy as np\n",
    "from sklearn.model_selection import RepeatedKFold, KFold, cross_val_score\n",
    "from sklearn.preprocessing import StandardScaler\n",
    "from sklearn.metrics import accuracy_score, precision_score, recall_score\n",
    "import pandas as pd\n",
    "import os\n",
    "import random\n",
    "import tqdm\n",
    "import matplotlib.pyplot as plt"
   ]
  },
  {
   "cell_type": "markdown",
   "metadata": {},
   "source": [
    "### Loading and preparing the dataset"
   ]
  },
  {
   "cell_type": "code",
   "execution_count": 7,
   "metadata": {},
   "outputs": [],
   "source": [
    "df = pd.read_csv('bank-full.csv', sep =';')"
   ]
  },
  {
   "cell_type": "code",
   "execution_count": 13,
   "metadata": {},
   "outputs": [
    {
     "data": {
      "text/plain": [
       "(45211, 17)"
      ]
     },
     "execution_count": 13,
     "metadata": {},
     "output_type": "execute_result"
    }
   ],
   "source": [
    "df.shape"
   ]
  },
  {
   "cell_type": "code",
   "execution_count": 8,
   "metadata": {
    "scrolled": true
   },
   "outputs": [
    {
     "data": {
      "text/html": [
       "<div>\n",
       "<style scoped>\n",
       "    .dataframe tbody tr th:only-of-type {\n",
       "        vertical-align: middle;\n",
       "    }\n",
       "\n",
       "    .dataframe tbody tr th {\n",
       "        vertical-align: top;\n",
       "    }\n",
       "\n",
       "    .dataframe thead th {\n",
       "        text-align: right;\n",
       "    }\n",
       "</style>\n",
       "<table border=\"1\" class=\"dataframe\">\n",
       "  <thead>\n",
       "    <tr style=\"text-align: right;\">\n",
       "      <th></th>\n",
       "      <th>age</th>\n",
       "      <th>job</th>\n",
       "      <th>marital</th>\n",
       "      <th>education</th>\n",
       "      <th>default</th>\n",
       "      <th>balance</th>\n",
       "      <th>housing</th>\n",
       "      <th>loan</th>\n",
       "      <th>contact</th>\n",
       "      <th>day</th>\n",
       "      <th>month</th>\n",
       "      <th>duration</th>\n",
       "      <th>campaign</th>\n",
       "      <th>pdays</th>\n",
       "      <th>previous</th>\n",
       "      <th>poutcome</th>\n",
       "      <th>y</th>\n",
       "    </tr>\n",
       "  </thead>\n",
       "  <tbody>\n",
       "    <tr>\n",
       "      <th>0</th>\n",
       "      <td>58</td>\n",
       "      <td>management</td>\n",
       "      <td>married</td>\n",
       "      <td>tertiary</td>\n",
       "      <td>no</td>\n",
       "      <td>2143</td>\n",
       "      <td>yes</td>\n",
       "      <td>no</td>\n",
       "      <td>unknown</td>\n",
       "      <td>5</td>\n",
       "      <td>may</td>\n",
       "      <td>261</td>\n",
       "      <td>1</td>\n",
       "      <td>-1</td>\n",
       "      <td>0</td>\n",
       "      <td>unknown</td>\n",
       "      <td>no</td>\n",
       "    </tr>\n",
       "    <tr>\n",
       "      <th>1</th>\n",
       "      <td>44</td>\n",
       "      <td>technician</td>\n",
       "      <td>single</td>\n",
       "      <td>secondary</td>\n",
       "      <td>no</td>\n",
       "      <td>29</td>\n",
       "      <td>yes</td>\n",
       "      <td>no</td>\n",
       "      <td>unknown</td>\n",
       "      <td>5</td>\n",
       "      <td>may</td>\n",
       "      <td>151</td>\n",
       "      <td>1</td>\n",
       "      <td>-1</td>\n",
       "      <td>0</td>\n",
       "      <td>unknown</td>\n",
       "      <td>no</td>\n",
       "    </tr>\n",
       "    <tr>\n",
       "      <th>2</th>\n",
       "      <td>33</td>\n",
       "      <td>entrepreneur</td>\n",
       "      <td>married</td>\n",
       "      <td>secondary</td>\n",
       "      <td>no</td>\n",
       "      <td>2</td>\n",
       "      <td>yes</td>\n",
       "      <td>yes</td>\n",
       "      <td>unknown</td>\n",
       "      <td>5</td>\n",
       "      <td>may</td>\n",
       "      <td>76</td>\n",
       "      <td>1</td>\n",
       "      <td>-1</td>\n",
       "      <td>0</td>\n",
       "      <td>unknown</td>\n",
       "      <td>no</td>\n",
       "    </tr>\n",
       "    <tr>\n",
       "      <th>3</th>\n",
       "      <td>47</td>\n",
       "      <td>blue-collar</td>\n",
       "      <td>married</td>\n",
       "      <td>unknown</td>\n",
       "      <td>no</td>\n",
       "      <td>1506</td>\n",
       "      <td>yes</td>\n",
       "      <td>no</td>\n",
       "      <td>unknown</td>\n",
       "      <td>5</td>\n",
       "      <td>may</td>\n",
       "      <td>92</td>\n",
       "      <td>1</td>\n",
       "      <td>-1</td>\n",
       "      <td>0</td>\n",
       "      <td>unknown</td>\n",
       "      <td>no</td>\n",
       "    </tr>\n",
       "    <tr>\n",
       "      <th>4</th>\n",
       "      <td>33</td>\n",
       "      <td>unknown</td>\n",
       "      <td>single</td>\n",
       "      <td>unknown</td>\n",
       "      <td>no</td>\n",
       "      <td>1</td>\n",
       "      <td>no</td>\n",
       "      <td>no</td>\n",
       "      <td>unknown</td>\n",
       "      <td>5</td>\n",
       "      <td>may</td>\n",
       "      <td>198</td>\n",
       "      <td>1</td>\n",
       "      <td>-1</td>\n",
       "      <td>0</td>\n",
       "      <td>unknown</td>\n",
       "      <td>no</td>\n",
       "    </tr>\n",
       "  </tbody>\n",
       "</table>\n",
       "</div>"
      ],
      "text/plain": [
       "   age           job  marital  education default  balance housing loan  \\\n",
       "0   58    management  married   tertiary      no     2143     yes   no   \n",
       "1   44    technician   single  secondary      no       29     yes   no   \n",
       "2   33  entrepreneur  married  secondary      no        2     yes  yes   \n",
       "3   47   blue-collar  married    unknown      no     1506     yes   no   \n",
       "4   33       unknown   single    unknown      no        1      no   no   \n",
       "\n",
       "   contact  day month  duration  campaign  pdays  previous poutcome   y  \n",
       "0  unknown    5   may       261         1     -1         0  unknown  no  \n",
       "1  unknown    5   may       151         1     -1         0  unknown  no  \n",
       "2  unknown    5   may        76         1     -1         0  unknown  no  \n",
       "3  unknown    5   may        92         1     -1         0  unknown  no  \n",
       "4  unknown    5   may       198         1     -1         0  unknown  no  "
      ]
     },
     "execution_count": 8,
     "metadata": {},
     "output_type": "execute_result"
    }
   ],
   "source": [
    "df.head()"
   ]
  },
  {
   "cell_type": "code",
   "execution_count": 9,
   "metadata": {},
   "outputs": [],
   "source": [
    "import preprocessing"
   ]
  },
  {
   "cell_type": "code",
   "execution_count": 10,
   "metadata": {},
   "outputs": [],
   "source": [
    "df_enc = preprocessing.encode(df)"
   ]
  },
  {
   "cell_type": "code",
   "execution_count": 14,
   "metadata": {},
   "outputs": [
    {
     "data": {
      "text/plain": [
       "(45211, 11)"
      ]
     },
     "execution_count": 14,
     "metadata": {},
     "output_type": "execute_result"
    }
   ],
   "source": [
    "df_enc.shape"
   ]
  },
  {
   "cell_type": "code",
   "execution_count": 11,
   "metadata": {
    "scrolled": true
   },
   "outputs": [
    {
     "data": {
      "text/html": [
       "<div>\n",
       "<style scoped>\n",
       "    .dataframe tbody tr th:only-of-type {\n",
       "        vertical-align: middle;\n",
       "    }\n",
       "\n",
       "    .dataframe tbody tr th {\n",
       "        vertical-align: top;\n",
       "    }\n",
       "\n",
       "    .dataframe thead th {\n",
       "        text-align: right;\n",
       "    }\n",
       "</style>\n",
       "<table border=\"1\" class=\"dataframe\">\n",
       "  <thead>\n",
       "    <tr style=\"text-align: right;\">\n",
       "      <th></th>\n",
       "      <th>poutcome_failure</th>\n",
       "      <th>poutcome_other</th>\n",
       "      <th>poutcome_success</th>\n",
       "      <th>poutcome_unknown</th>\n",
       "      <th>marital_divorced</th>\n",
       "      <th>marital_married</th>\n",
       "      <th>marital_single</th>\n",
       "      <th>balance</th>\n",
       "      <th>pdays</th>\n",
       "      <th>previous</th>\n",
       "      <th>campaign</th>\n",
       "    </tr>\n",
       "  </thead>\n",
       "  <tbody>\n",
       "    <tr>\n",
       "      <th>0</th>\n",
       "      <td>0</td>\n",
       "      <td>0</td>\n",
       "      <td>0</td>\n",
       "      <td>1</td>\n",
       "      <td>0</td>\n",
       "      <td>1</td>\n",
       "      <td>0</td>\n",
       "      <td>0.007088</td>\n",
       "      <td>-0.04709</td>\n",
       "      <td>-0.00211</td>\n",
       "      <td>-0.028449</td>\n",
       "    </tr>\n",
       "    <tr>\n",
       "      <th>1</th>\n",
       "      <td>0</td>\n",
       "      <td>0</td>\n",
       "      <td>0</td>\n",
       "      <td>1</td>\n",
       "      <td>0</td>\n",
       "      <td>0</td>\n",
       "      <td>1</td>\n",
       "      <td>-0.012105</td>\n",
       "      <td>-0.04709</td>\n",
       "      <td>-0.00211</td>\n",
       "      <td>-0.028449</td>\n",
       "    </tr>\n",
       "    <tr>\n",
       "      <th>2</th>\n",
       "      <td>0</td>\n",
       "      <td>0</td>\n",
       "      <td>0</td>\n",
       "      <td>1</td>\n",
       "      <td>0</td>\n",
       "      <td>1</td>\n",
       "      <td>0</td>\n",
       "      <td>-0.012350</td>\n",
       "      <td>-0.04709</td>\n",
       "      <td>-0.00211</td>\n",
       "      <td>-0.028449</td>\n",
       "    </tr>\n",
       "    <tr>\n",
       "      <th>3</th>\n",
       "      <td>0</td>\n",
       "      <td>0</td>\n",
       "      <td>0</td>\n",
       "      <td>1</td>\n",
       "      <td>0</td>\n",
       "      <td>1</td>\n",
       "      <td>0</td>\n",
       "      <td>0.001305</td>\n",
       "      <td>-0.04709</td>\n",
       "      <td>-0.00211</td>\n",
       "      <td>-0.028449</td>\n",
       "    </tr>\n",
       "    <tr>\n",
       "      <th>4</th>\n",
       "      <td>0</td>\n",
       "      <td>0</td>\n",
       "      <td>0</td>\n",
       "      <td>1</td>\n",
       "      <td>0</td>\n",
       "      <td>0</td>\n",
       "      <td>1</td>\n",
       "      <td>-0.012359</td>\n",
       "      <td>-0.04709</td>\n",
       "      <td>-0.00211</td>\n",
       "      <td>-0.028449</td>\n",
       "    </tr>\n",
       "  </tbody>\n",
       "</table>\n",
       "</div>"
      ],
      "text/plain": [
       "   poutcome_failure  poutcome_other  poutcome_success  poutcome_unknown  \\\n",
       "0                 0               0                 0                 1   \n",
       "1                 0               0                 0                 1   \n",
       "2                 0               0                 0                 1   \n",
       "3                 0               0                 0                 1   \n",
       "4                 0               0                 0                 1   \n",
       "\n",
       "   marital_divorced  marital_married  marital_single   balance    pdays  \\\n",
       "0                 0                1               0  0.007088 -0.04709   \n",
       "1                 0                0               1 -0.012105 -0.04709   \n",
       "2                 0                1               0 -0.012350 -0.04709   \n",
       "3                 0                1               0  0.001305 -0.04709   \n",
       "4                 0                0               1 -0.012359 -0.04709   \n",
       "\n",
       "   previous  campaign  \n",
       "0  -0.00211 -0.028449  \n",
       "1  -0.00211 -0.028449  \n",
       "2  -0.00211 -0.028449  \n",
       "3  -0.00211 -0.028449  \n",
       "4  -0.00211 -0.028449  "
      ]
     },
     "execution_count": 11,
     "metadata": {},
     "output_type": "execute_result"
    }
   ],
   "source": [
    "df_enc.head()"
   ]
  },
  {
   "cell_type": "code",
   "execution_count": 16,
   "metadata": {},
   "outputs": [],
   "source": [
    "df_y = df.y.map({'yes': 1, 'no': 0})"
   ]
  },
  {
   "cell_type": "markdown",
   "metadata": {},
   "source": [
    "### Performing repeated cross validation"
   ]
  },
  {
   "cell_type": "code",
   "execution_count": 94,
   "metadata": {},
   "outputs": [],
   "source": [
    "def perform_repeated_cv(X, y , model):\n",
    "    #set random seed for repeartability\n",
    "    random.seed(1)\n",
    "\n",
    "    #set the number of repetitions\n",
    "    n_reps = 50\n",
    "\n",
    "    # perform repeated cross validation\n",
    "    accuracy_scores = np.zeros(n_reps)\n",
    "    precision_scores=  np.zeros(n_reps)\n",
    "    recall_scores =  np.zeros(n_reps)\n",
    "\n",
    "    for u in tqdm.tqdm(range(n_reps)):\n",
    "\n",
    "        #randomly shuffle the dataset\n",
    "        indices = np.arange(X.shape[0])\n",
    "        np.random.shuffle(indices)\n",
    "        X = X[indices]\n",
    "        y = y[indices] #dataset has been randomly shuffled\n",
    "\n",
    "        #initialize vector to keep predictions from all folds of the cross-validation\n",
    "        y_predicted = np.zeros(y.shape)\n",
    "\n",
    "        #perform 10-fold cross validation\n",
    "        kf = KFold(n_splits=5 , random_state=142)\n",
    "        for train, test in kf.split(X):\n",
    "\n",
    "            #split the dataset into training and testing\n",
    "            X_train = X[train]\n",
    "            X_test = X[test]\n",
    "            y_train = y[train]\n",
    "            y_test = y[test]\n",
    "\n",
    "            #standardization\n",
    "            scaler = StandardScaler().fit(X_train)\n",
    "            X_train = scaler.transform(X_train)\n",
    "            X_test = scaler.transform(X_test)\n",
    "\n",
    "            #train model\n",
    "            clf = model\n",
    "            clf.fit(X_train, y_train)\n",
    "\n",
    "            #make predictions on the testing set\n",
    "            y_predicted[test] = clf.predict(X_test)\n",
    "\n",
    "        #record scores\n",
    "        accuracy_scores[u] = accuracy_score(y, y_predicted)\n",
    "        precision_scores[u] = precision_score(y, y_predicted)\n",
    "        recall_scores[u]  = recall_score(y, y_predicted)\n",
    "\n",
    "    #return all scores\n",
    "    return accuracy_scores, precision_scores, recall_scores"
   ]
  },
  {
   "cell_type": "code",
   "execution_count": 95,
   "metadata": {},
   "outputs": [],
   "source": [
    "from sklearn.ensemble import RandomForestClassifier\n",
    "from sklearn.linear_model import LogisticRegression"
   ]
  },
  {
   "cell_type": "code",
   "execution_count": 96,
   "metadata": {},
   "outputs": [
    {
     "name": "stderr",
     "output_type": "stream",
     "text": [
      "100%|██████████| 50/50 [01:28<00:00,  1.74s/it]\n"
     ]
    }
   ],
   "source": [
    "acc_sc, prec_sc, rec_sc = perform_repeated_cv(df_enc.values, df_y.values, RandomForestClassifier())"
   ]
  },
  {
   "cell_type": "code",
   "execution_count": 97,
   "metadata": {},
   "outputs": [
    {
     "data": {
      "image/png": "[encoded data removed]",
      "text/plain": [
       "<Figure size 432x288 with 3 Axes>"
      ]
     },
     "metadata": {
      "needs_background": "light"
     },
     "output_type": "display_data"
    }
   ],
   "source": [
    "fig, axes = plt.subplots(3,1,sharex=True)\n",
    "axes[0].plot(100*acc_sc, color = 'xkcd:cherry', marker= 'o', linestyle='-')\n",
    "axes[0].set_ylabel('Accuracy (%)')\n",
    "axes[0].axhline(100*np.mean(acc_sc), color = 'xkcd:cherry')\n",
    "axes[1].plot(100*prec_sc, color = 'xkcd:royal blue' , marker = 'o', linestyle='-')\n",
    "axes[1].set_ylabel('Precision (%)')\n",
    "axes[1].axhline(100*np.mean(prec_sc), color = 'xkcd:royal blue')\n",
    "axes[2].plot(100*rec_sc, color = 'xkcd:emerald' , marker = 'o', linestyle='-')\n",
    "axes[2].axhline(100*np.mean(rec_sc), color = 'xkcd:emerald')\n",
    "axes[2].set_ylabel('Recall (%)')\n",
    "plt.xlabel('Repetition')\n",
    "plt.show()"
   ]
  },
  {
   "cell_type": "markdown",
   "metadata": {},
   "source": [
    "By the way, repeated cross validation is already implemented in sklearn."
   ]
  },
  {
   "cell_type": "code",
   "execution_count": 175,
   "metadata": {},
   "outputs": [],
   "source": [
    "from sklearn.pipeline import Pipeline\n",
    "\n",
    "stsc = StandardScaler()\n",
    "classify = Pipeline([('scaling', stsc),\n",
    "                     ('classifying', RandomForestClassifier())])\n",
    "rkf = RepeatedKFold(n_splits = 5, n_repeats = 50)\n",
    "\n",
    "acc_sc_1 = []\n",
    "prec_sc_1 = []\n",
    "rec_sc_1 = []\n",
    "\n",
    "for train_index, test_index in rkf.split(df_enc):\n",
    "    classify.fit(df_enc.loc[train_index], df_y.loc[train_index])\n",
    "    df_pred = classify.predict(df_enc.loc[test_index]) \n",
    "    acc_sc_1.append(np.mean(accuracy_score(df_pred, df_y.loc[test_index])))\n",
    "    prec_sc_1.append(precision_score(df_pred, df_y.loc[test_index]))\n",
    "    rec_sc_1.append(recall_score(df_pred, df_y.loc[test_index]))"
   ]
  },
  {
   "cell_type": "code",
   "execution_count": 176,
   "metadata": {},
   "outputs": [
    {
     "data": {
      "image/png": "[encoded data removed]",
      "text/plain": [
       "<Figure size 432x288 with 3 Axes>"
      ]
     },
     "metadata": {
      "needs_background": "light"
     },
     "output_type": "display_data"
    }
   ],
   "source": [
    "fig, axes = plt.subplots(3,1,sharex=True)\n",
    "axes[0].plot(100*acc_sc_1, color = 'xkcd:cherry', marker= 'o', linestyle='-')\n",
    "axes[0].set_ylabel('Accuracy (%)')\n",
    "#axes[0].axhline(100*np.mean(acc_sc_1), color = 'xkcd:cherry')\n",
    "axes[1].plot(100*prec_sc_1, color = 'xkcd:royal blue' , marker = 'o', linestyle='-')\n",
    "axes[1].set_ylabel('Precision (%)')\n",
    "#axes[1].axhline(100*np.mean(prec_sc_1), color = 'xkcd:royal blue')\n",
    "axes[2].plot(100*rec_sc_1, color = 'xkcd:emerald' , marker = 'o', linestyle='-')\n",
    "#axes[2].axhline(100*np.mean(rec_sc_1), color = 'xkcd:emerald')\n",
    "axes[2].set_ylabel('Recall (%)')\n",
    "plt.xlabel('Repetition')\n",
    "plt.show()"
   ]
  },
  {
   "cell_type": "code",
   "execution_count": 168,
   "metadata": {},
   "outputs": [
    {
     "name": "stderr",
     "output_type": "stream",
     "text": [
      "100%|██████████| 50/50 [00:15<00:00,  3.39it/s]\n",
      "100%|██████████| 50/50 [00:15<00:00,  3.54it/s]\n",
      "100%|██████████| 50/50 [00:15<00:00,  3.27it/s]\n",
      "100%|██████████| 50/50 [00:16<00:00,  2.92it/s]\n",
      "100%|██████████| 50/50 [00:16<00:00,  3.18it/s]\n",
      "100%|██████████| 50/50 [00:16<00:00,  3.01it/s]\n",
      "100%|██████████| 50/50 [00:16<00:00,  2.98it/s]\n",
      "100%|██████████| 50/50 [00:16<00:00,  2.95it/s]\n",
      "100%|██████████| 50/50 [00:17<00:00,  2.72it/s]\n",
      "100%|██████████| 50/50 [00:19<00:00,  2.44it/s]\n",
      "100%|██████████| 50/50 [00:21<00:00,  2.15it/s]\n",
      "100%|██████████| 50/50 [00:22<00:00,  2.26it/s]\n",
      "100%|██████████| 50/50 [00:19<00:00,  2.70it/s]\n",
      "100%|██████████| 50/50 [00:18<00:00,  2.63it/s]\n",
      "100%|██████████| 50/50 [00:19<00:00,  2.49it/s]\n",
      "100%|██████████| 50/50 [00:20<00:00,  2.48it/s]\n",
      "100%|██████████| 50/50 [00:20<00:00,  2.45it/s]\n",
      "100%|██████████| 50/50 [00:20<00:00,  2.48it/s]\n",
      "100%|██████████| 50/50 [00:20<00:00,  2.39it/s]\n",
      "100%|██████████| 50/50 [00:24<00:00,  2.09it/s]\n",
      "100%|██████████| 50/50 [00:21<00:00,  2.37it/s]\n",
      "100%|██████████| 50/50 [00:21<00:00,  2.27it/s]\n",
      "100%|██████████| 50/50 [00:21<00:00,  2.40it/s]\n",
      "100%|██████████| 50/50 [00:22<00:00,  2.29it/s]\n",
      "100%|██████████| 50/50 [00:21<00:00,  2.45it/s]\n",
      "100%|██████████| 50/50 [00:21<00:00,  2.19it/s]\n",
      "100%|██████████| 50/50 [00:21<00:00,  2.46it/s]\n",
      "100%|██████████| 50/50 [00:20<00:00,  2.43it/s]\n",
      "100%|██████████| 50/50 [00:19<00:00,  2.44it/s]\n",
      "100%|██████████| 50/50 [00:20<00:00,  2.40it/s]\n",
      "100%|██████████| 50/50 [00:20<00:00,  2.47it/s]\n",
      "100%|██████████| 50/50 [00:20<00:00,  2.41it/s]\n",
      "100%|██████████| 50/50 [00:20<00:00,  2.46it/s]\n",
      "100%|██████████| 50/50 [00:20<00:00,  2.43it/s]\n",
      "100%|██████████| 50/50 [00:20<00:00,  2.49it/s]\n",
      "100%|██████████| 50/50 [00:21<00:00,  2.17it/s]\n",
      "100%|██████████| 50/50 [00:22<00:00,  2.41it/s]\n",
      "100%|██████████| 50/50 [00:21<00:00,  2.41it/s]\n",
      "100%|██████████| 50/50 [00:20<00:00,  2.41it/s]\n",
      "100%|██████████| 50/50 [00:21<00:00,  2.52it/s]\n",
      "100%|██████████| 50/50 [00:21<00:00,  2.33it/s]\n",
      "100%|██████████| 50/50 [00:23<00:00,  2.23it/s]\n",
      "100%|██████████| 50/50 [00:22<00:00,  2.41it/s]\n",
      "100%|██████████| 50/50 [00:23<00:00,  2.00it/s]\n",
      "100%|██████████| 50/50 [00:25<00:00,  2.26it/s]\n",
      "100%|██████████| 50/50 [00:23<00:00,  2.23it/s]\n",
      "100%|██████████| 50/50 [00:23<00:00,  2.18it/s]\n",
      "100%|██████████| 50/50 [00:21<00:00,  2.45it/s]\n",
      "100%|██████████| 50/50 [00:22<00:00,  2.20it/s]\n",
      "100%|██████████| 50/50 [00:21<00:00,  2.22it/s]\n"
     ]
    },
    {
     "name": "stdout",
     "output_type": "stream",
     "text": [
      "Maximum accuracy 89.28 at C = 0.00910\n"
     ]
    },
    {
     "data": {
      "image/png": "[encoded data removed]",
      "text/plain": [
       "<Figure size 432x288 with 1 Axes>"
      ]
     },
     "metadata": {
      "needs_background": "light"
     },
     "output_type": "display_data"
    }
   ],
   "source": [
    "#set up the parameter sweep\n",
    "c_sweep =  np.power(10, np.linspace(-4,4,50))\n",
    "\n",
    "#perform repeated cross-validation by sweeping the parameter\n",
    "accuracy_parameter_sweep = [] # keep scores here\n",
    "std_parameter_sweep = [] #keep parameters in here\n",
    "for c in c_sweep:\n",
    "\n",
    "    #perform repeated cross-validation\n",
    "    accuracy_scores, precision_scores, recall_scores = perform_repeated_cv(df_enc.values, df_y.values ,  LogisticRegression(C=c) )\n",
    "\n",
    "    ##append scores\n",
    "    accuracy_parameter_sweep.append(np.mean(100*accuracy_scores))\n",
    "    std_parameter_sweep.append(np.std(100*accuracy_scores))\n",
    "\n",
    "\n",
    "#plot C vs. accuracy\n",
    "plt.fill_between(c_sweep , np.array(accuracy_parameter_sweep) - np.array(std_parameter_sweep) ,\n",
    "                 np.array(accuracy_parameter_sweep) + np.array(std_parameter_sweep) , facecolor = 'xkcd:light pink', alpha=0.7)\n",
    "plt.semilogx(c_sweep,accuracy_parameter_sweep , color= 'xkcd:red' , linewidth=4)\n",
    "plt.xlabel('C')\n",
    "plt.ylabel('Accuracy (%)')\n",
    "plt.title('Logistic Regression Accuracy vs. Hyper-parameter C')\n",
    "plt.grid(True, which='both')\n",
    "plt.tight_layout()\n",
    "plt.show()\n",
    "print('Maximum accuracy {:.2f} at C = {:.5f}'.format(max(accuracy_parameter_sweep), c_sweep[np.argmax(accuracy_parameter_sweep)]))\n"
   ]
  },
  {
   "cell_type": "markdown",
   "metadata": {},
   "source": [
    "### Exercises"
   ]
  },
  {
   "cell_type": "code",
   "execution_count": null,
   "metadata": {},
   "outputs": [],
   "source": [
    "1. Try to optimize hyperparameters "
   ]
  }
 ],
 "metadata": {
  "kernelspec": {
   "display_name": "Python (talanx)",
   "language": "python",
   "name": "talanx"
  },
  "language_info": {
   "codemirror_mode": {
    "name": "ipython",
    "version": 2
   },
   "file_extension": ".py",
   "mimetype": "text/x-python",
   "name": "python",
   "nbconvert_exporter": "python",
   "pygments_lexer": "ipython2",
   "version": "2.7.6"
  }
 },
 "nbformat": 4,
 "nbformat_minor": 2
}
